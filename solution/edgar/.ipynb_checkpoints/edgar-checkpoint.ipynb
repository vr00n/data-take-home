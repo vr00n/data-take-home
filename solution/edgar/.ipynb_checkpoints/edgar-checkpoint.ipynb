{
 "cells": [
  {
   "cell_type": "code",
   "execution_count": 96,
   "metadata": {},
   "outputs": [],
   "source": [
    "from bs4 import BeautifulSoup\n",
    "import requests\n",
    "import json\n",
    "table_full=[]\n",
    "for i in xrange(1,11):\n",
    "    url = 'http://localhost:5000/companies/?page='+str(i)\n",
    "    #print url\n",
    "    response = requests.get(url)\n",
    "    soup = BeautifulSoup(response.content, \"html.parser\")\n",
    "    tags = soup.findAll(\"a\", {\"id\":True})\n",
    "    for i in xrange(0,len(tags)):\n",
    "        #print tags[i].text.strip()\n",
    "        url2 = 'http://localhost:5000/companies/'+str(tags[i].text.strip())\n",
    "        response2 = requests.get(url2)\n",
    "        soup2 = BeautifulSoup(response2.content, \"html.parser\")\n",
    "        table_data = [[cell.text for cell in row(\"td\")] for row in soup2(\"tr\")]\n",
    "        table_full.append(table_data)\n",
    "with open('result.json', 'a') as fp:\n",
    "    json.dump(dict(table_full), fp)\n",
    "    "
   ]
  }
 ],
 "metadata": {
  "kernelspec": {
   "display_name": "Python 2",
   "language": "python",
   "name": "python2"
  },
  "language_info": {
   "codemirror_mode": {
    "name": "ipython",
    "version": 2
   },
   "file_extension": ".py",
   "mimetype": "text/x-python",
   "name": "python",
   "nbconvert_exporter": "python",
   "pygments_lexer": "ipython2",
   "version": "2.7.14"
  }
 },
 "nbformat": 4,
 "nbformat_minor": 2
}
