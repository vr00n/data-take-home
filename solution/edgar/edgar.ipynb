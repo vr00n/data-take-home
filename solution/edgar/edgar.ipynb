{
 "cells": [
  {
   "cell_type": "code",
   "execution_count": 167,
   "metadata": {},
   "outputs": [],
   "source": [
    "from bs4 import BeautifulSoup\n",
    "import requests\n",
    "import json\n",
    "table_full=[]\n",
    "with open('edgar.json', 'a') as fp:\n",
    "    print >>fp, '['\n",
    "    for i in xrange(1,11):\n",
    "        url = 'http://0.0.0.0/companies/?page='+str(i)\n",
    "        #print url\n",
    "        response = requests.get(url)\n",
    "        soup = BeautifulSoup(response.content, \"html.parser\")\n",
    "        tags = soup.findAll(\"a\", {\"id\":True})\n",
    "        for j in xrange(0,len(tags)):\n",
    "            #print tags[i].text.strip()\n",
    "            url2 = 'http://0.0.0.0/companies/'+str(tags[j].text.strip())\n",
    "            response2 = requests.get(url2)\n",
    "            soup2 = BeautifulSoup(response2.content, \"html.parser\")\n",
    "            table_data = [[cell.text for cell in row(\"td\")] for row in soup2(\"tr\")]\n",
    "            table_full.append(json.dump(dict(table_data), fp))            \n",
    "            if i*j < 90:\n",
    "                print >>fp, ','\n",
    "    print >>fp, ']'\n"
   ]
  },
  {
   "cell_type": "code",
   "execution_count": null,
   "metadata": {
    "collapsed": true
   },
   "outputs": [],
   "source": []
  }
 ],
 "metadata": {
  "kernelspec": {
   "display_name": "Python 2",
   "language": "python",
   "name": "python2"
  },
  "language_info": {
   "codemirror_mode": {
    "name": "ipython",
    "version": 2
   },
   "file_extension": ".py",
   "mimetype": "text/x-python",
   "name": "python",
   "nbconvert_exporter": "python",
   "pygments_lexer": "ipython2",
   "version": "2.7.14"
  }
 },
 "nbformat": 4,
 "nbformat_minor": 2
}
